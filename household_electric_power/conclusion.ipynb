{
 "cells": [
  {
   "cell_type": "markdown",
   "metadata": {},
   "source": [
    "<b>NEXTDEV</b> Digitalent Academy : Python Final Project Assigment - Analysis of Machnine Learning<br>\n",
    "Lecture : <strong> Afif A.I. </strong> <br>\n",
    "code by : <strong>Wahyu Fachrur Zulfikar</strong>"
   ]
  },
  {
   "cell_type": "markdown",
   "metadata": {},
   "source": [
    "Dalam case ini kita menggunakan Cmap dengan value `\"rainbow\"` maka untuk penjelasan clusternya adalah : <br>\n",
    "<ul>\n",
    "<li> cluster [0] = \"merah\" </li>\n",
    "<li> cluster [1] = \"jingga\" </li>\n",
    "<li> cluster [2] = \"hijau tosca\" </li>\n",
    "<li> cluster [3] = \"biru muda\" </li>\n",
    "<li> cluster [4] = \"ungu\" </li>\n",
    "</ul>\n",
    "\n",
    "pembagian cluster menjadi 5 berdasar kepada kolom `\"sub_metering\"` yang berjumlah \"3\" ditambah lagi dengan penambahan kolom `\"Other_active_metering\"` yang didapatkan dari formula yang tertulis pada pendahuluan dataset. dan untuk mendapatkan kategori lainnya, maka kita menambahkan 1 cluster lagi. dan jika disederhanakan akan menjadi\n",
    "><b> 3 (sub_metering) + 1 (other_metering) + 1 (other) = 5 Cluster </b>"
   ]
  },
  {
   "cell_type": "markdown",
   "metadata": {},
   "source": [
    "<div >\n",
    "    <img src=\"assets/Global_active_vs_Global_intensity.png\" style=\"background:white\">\n",
    "    <img src=\"assets/Global_active_vs_global_reactive.png\" style=\"background:white\">\n",
    "    <img src=\"assets/Global_active_vs_other_active_metering.png\" style=\"background:white\">\n",
    "    <img src=\"assets/Global_active_vs_sub_metering_1.png\" style=\"background:white\">\n",
    "    <img src=\"assets/Global_active_vs_sub_metering_2.png\" style=\"background:white\">\n",
    "    <img src=\"assets/Global_active_vs_sub_metering_3.png\" style=\"background:white\">\n",
    "    <img src=\"assets/Global_active_vs_voltage.png\" style=\"background:white\">\n",
    "    <img src=\"assets/Global_intensity_vs_other_active_metering.png\" style=\"background:white\">\n",
    "    <img src=\"assets/Global_intensity_vs_sub_metering_1.png\" style=\"background:white\">\n",
    "    <img src=\"assets/Global_intensity_vs_sub_metering_2.png\" style=\"background:white\">\n",
    "    <img src=\"assets/Global_intensity_vs_sub_metering_3.png\" style=\"background:white\">\n",
    "    <img src=\"assets/Global_reactive_vs_global_intensity.png\" style=\"background:white\">\n",
    "    <img src=\"assets/Global_reactive_vs_other_active_metering.png\" style=\"background:white\">\n",
    "    <img src=\"assets/Global_reactive_vs_sub_metering_1.png\" style=\"background:white\">\n",
    "    <img src=\"assets/Global_reactive_vs_sub_metering_2.png\" style=\"background:white\">\n",
    "    <img src=\"assets/Global_reactive_vs_sub_metering_3.png\" style=\"background:white\">\n",
    "    <img src=\"assets/Global_reactive_vs_voltage.png\" style=\"background:white\">\n",
    "    <img src=\"assets/Sub_metering_1_vs_other_active_metering.png\" style=\"background:white\">\n",
    "    <img src=\"assets/Sub_metering_1_vs_sub_metering_2.png\" style=\"background:white\">\n",
    "    <img src=\"assets/Sub_metering_1_vs_sub_metering_3.png\" style=\"background:white\">\n",
    "    <img src=\"assets/Sub_metering_2_vs_other_active_metering.png\" style=\"background:white\">\n",
    "    <img src=\"assets/Sub_metering_2_vs_sub_metering_3.png\" style=\"background:white\">\n",
    "    <img src=\"assets/Sub_metering_3_vs_other_active_metering.png\" style=\"background:white\">\n",
    "    <img src=\"assets/Voltage_vs_global_intensity.png\" style=\"background:white\">\n",
    "    <img src=\"assets/Voltage_vs_other_active_metering.png\" style=\"background:white\">\n",
    "    <img src=\"assets/Voltage_vs_sub_metering_1.png\" style=\"background:white\">\n",
    "    <img src=\"assets/Voltage_vs_sub_metering_2.png\" style=\"background:white\">\n",
    "    <img src=\"assets/Voltage_vs_sub_metering_3.png\" style=\"background:white\">    \n",
    "</div>"
   ]
  },
  {
   "cell_type": "markdown",
   "metadata": {},
   "source": [
    "## <b>Cluster Analysis</b>"
   ]
  },
  {
   "cell_type": "markdown",
   "metadata": {},
   "source": [
    "Setelah menggunakan scatter plot untuk mengetahui pembagian cluster maka dapat disimpulkan mengenai pembagian cluster sebagai berikut:\n",
    ">feature `voltage` tidak terlalu berpengaruh pada plotting cluster, karena cluster yang dihasilkan dalam plot tidak dapat dianalisa dan cenderung acak. <br>\n",
    ">feature `global reactive` juga tidak terlalu berpengaruh pada plotting cluster dikarenakan minimnya korelasi antara cluster dengan feature.<br>\n",
    ">feature `global active power` mempunyai pada plotting cluster akan tetapi tidak signifikan seperti feature `metering`.\n",
    "\n"
   ]
  },
  {
   "cell_type": "markdown",
   "metadata": {},
   "source": [
    "#### <b>Cluster [0] :  <span style=\"color:red; font-weight:bold\">merah</span></b>"
   ]
  },
  {
   "cell_type": "markdown",
   "metadata": {},
   "source": [
    "dalam beberapa plot, dapat disimpulkan bahwa cluster [0] merupakan cluster muncul dengan ciri-ciri :\n",
    "- sub_metering_2 > sub_metering_1\n",
    "- sub_metering_2 > ~20\n",
    "- sub_metering_2 > other_active_metering\n",
    "\n",
    "> Cluster <span style=\"color:red; font-weight:bold\">merah</span>, merupakan cluster yang muncul akibat adanya nilai `sub_metering_2` yang lebih dari ~20 dan nilai dari `sub_metering_2` lebih dominant daripada nilai `sub_metering_1` dan `other_active_metering`.\n",
    "\n",
    "> kesimpulan dari berberapa ciri-ciri diatas, maka cluster[0] ini dapat disebut juga sebagai cluster <u> `sub metering 2 Dominant` </u>"
   ]
  },
  {
   "cell_type": "markdown",
   "metadata": {},
   "source": [
    "#### <b>Cluster [1] : <span style=\"color:orange; font-weight:bold\">jingga</span></b>"
   ]
  },
  {
   "cell_type": "markdown",
   "metadata": {},
   "source": [
    "dalam beberapa plot, dapat disimpulkan bahwa cluster [1] merupakan cluster dengan ciri-ciri :\n",
    "\n",
    "- sub_metering_1 > ~20\n",
    "- sub_metering_1 > sub_metering_2\n",
    "- Sub_metering 1 > other_active_metering\n",
    "\n",
    "> Cluster <span style=\"color:orange; font-weight:bold\">jingga</span> merupakan cluster yang muncul akibat adanya nilai `sub_metering_1` yang lebih dari ~20 dan nilai dari `sub_metering_1` lebih dominant daripada nilai `sub_metering_2` dan `other_active_metering`.\n",
    "\n",
    "> kesimpulan dari berberapa ciri-ciri diatas, maka cluster[1] ini dapat disebut juga sebagai cluster <u> `sub metering 1 Dominant` </u>"
   ]
  },
  {
   "cell_type": "markdown",
   "metadata": {},
   "source": [
    "#### <b>Cluster [2] : <span style=\"color:#76B947; font-weight:bold\">Tosca</span></b>"
   ]
  },
  {
   "cell_type": "markdown",
   "metadata": {},
   "source": [
    "\n",
    "dalam beberapa plot, dapat disimpulkan bahwa cluster [2] merupakan cluster dengan ciri-ciri :\n",
    "- sub_metering 1 < 20\n",
    "- sub_metering 2 < 20\n",
    "- sub_metering 3 < 10\n",
    "- other_active_metering < 20\n",
    "- global_active_power < 10\n",
    "- global_intensity < ~5\n",
    "\n",
    "\n",
    "> Cluster <span style=\"color:#76B947; font-weight:bold\">Tosca</span> merupakan cluster yang muncul akibat adanya nilai `sub_metering_1`, `sub_metering_2`,`sub_metering_3`,`other_active_metering` yang bernilai rendah. terdapat kemiripan plot pada scatterplot `global_active_power` dimana warna tosca berada di dekat sumbu x,y mendekati 0\n",
    "\n",
    "> kesimpulan dari berberapa ciri-ciri diatas, maka cluster[1] ini dapat disebut juga sebagai cluster <u> `Low_global_active_power - sub_metering_3 low` </u>"
   ]
  },
  {
   "cell_type": "markdown",
   "metadata": {},
   "source": [
    "#### <b>Cluster [3] : <span style=\"color:#33B7DC; font-weight:bold\">Biru Muda</span></b>"
   ]
  },
  {
   "cell_type": "markdown",
   "metadata": {},
   "source": [
    "dalam beberapa plot, dapat disimpulkan bahwa cluster [3] merupakan cluster dengan ciri-ciri :\n",
    "- sub_metering 1 < ~20\n",
    "- sub_metering 2 < ~20\n",
    "- Sub_metering 3 > ~10\n",
    "- other_active_metering < ~20\n",
    "- Global_intensity = low\n",
    "\n",
    "> Cluster <span style=\"color:#33B7DC; font-weight:bold\">Biru Muda</span> mempunyai kemiripan dengan klasifikasi dari cluster tosca. perbedaan dari cluster ini terdapat pada nilai `sub_metering_3`. cluster biru muda akan muncul jika `sub_metering_3` mempunyai nilai lebih dari ~10\n",
    "\n",
    "\n",
    "> Dari berberapa ciri-ciri, maka cluster[3] ini dapat disebut juga sebagai cluster <u>`low_global_power - sub_metering_3_high`</u>"
   ]
  },
  {
   "cell_type": "markdown",
   "metadata": {},
   "source": [
    "#### <b>Cluster [4] :<span style=\"color:#C80089; font-weight:bold\"> Ungu</span></b>"
   ]
  },
  {
   "cell_type": "markdown",
   "metadata": {},
   "source": [
    "dalam beberapa plot, dapat disimpulkan bahwa cluster [1] merupakan cluster dengan ciri-ciri :\n",
    "\n",
    "- other_active_metering > ~20\n",
    "- other_active_metering > sub_metering_1\n",
    "- other_active_metering > sub_metering_2\n",
    "\n",
    "> Cluster <span style=\"color:#C80089; font-weight:bold\"> Ungu</span> merupakan cluster yang muncul akibat adanya nilai `other_active_metering` yang lebih dari ~20 dan nilai dari `other_active_metering` lebih dominant daripada nilai `sub_metering_1` dan `sub_metering_2`.\n",
    "\n",
    "> kesimpulan dari berberapa ciri-ciri diatas, maka cluster[1] ini dapat disebut juga sebagai cluster <u> `other_active_metering Dominant` </u>"
   ]
  }
 ],
 "metadata": {
  "interpreter": {
   "hash": "b3ba2566441a7c06988d0923437866b63cedc61552a5af99d1f4fb67d367b25f"
  },
  "kernelspec": {
   "display_name": "Python 3.9.7 ('base')",
   "language": "python",
   "name": "python3"
  },
  "language_info": {
   "codemirror_mode": {
    "name": "ipython",
    "version": 3
   },
   "file_extension": ".py",
   "mimetype": "text/x-python",
   "name": "python",
   "nbconvert_exporter": "python",
   "pygments_lexer": "ipython3",
   "version": "3.9.7"
  },
  "orig_nbformat": 4
 },
 "nbformat": 4,
 "nbformat_minor": 2
}
